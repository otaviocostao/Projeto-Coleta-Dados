{
 "cells": [
  {
   "cell_type": "markdown",
   "metadata": {},
   "source": [
    "# 1.0 IMPORTANDO OS DADOS"
   ]
  },
  {
   "cell_type": "code",
   "execution_count": null,
   "metadata": {},
   "outputs": [],
   "source": [
    "# IMPORTANDO BIBLIOTECAS E CONECTANDO O BANCO DE DADOS\n",
    "\n",
    "import sqlite3\n",
    "import pandas as pd\n",
    " \n",
    "conn = sqlite3.connect('database.db')"
   ]
  },
  {
   "cell_type": "code",
   "execution_count": null,
   "metadata": {},
   "outputs": [],
   "source": [
    "# TABELA COM TODAS AS COLUNAS\n",
    "consulta_total = 'SELECT * FROM flight_activity LIMIT 5'\n",
    "df_atividade = pd.read_sql_query(consulta_total, conn)\n",
    "display(df_atividade)"
   ]
  },
  {
   "cell_type": "code",
   "execution_count": null,
   "metadata": {},
   "outputs": [],
   "source": [
    "# CONSULTA NO BANCO DE DADOS\n",
    "consulta_atividade = \"\"\"\n",
    "\n",
    "    SELECT\n",
    "        fa.loyalty_number,\n",
    "        fa.year,\n",
    "        fa.month,\n",
    "        fa.flights_booked\n",
    "    FROM flight_activity as fa\n",
    "    WHERE fa.flights_booked > 10\n",
    "\n",
    "\"\"\"\n",
    "\n",
    "df_atividade = pd.read_sql_query(consulta_atividade, conn)\n",
    "display(df_atividade)"
   ]
  },
  {
   "cell_type": "markdown",
   "metadata": {},
   "source": [
    "# 2.0 EXERCICIOS:"
   ]
  },
  {
   "cell_type": "code",
   "execution_count": null,
   "metadata": {},
   "outputs": [],
   "source": [
    "# Selecione as colunas: loyalty_number, year, month, flights_booked, total_flights, distance e points_accumulated \n",
    "\n",
    "consulta_atividade = \"\"\"\n",
    "\n",
    "    SELECT\n",
    "        fa.loyalty_number,\n",
    "        fa.year,\n",
    "        fa.month,\n",
    "        fa.flights_booked,\n",
    "        fa.total_flights,\n",
    "        fa.distance,\n",
    "        fa.points_accumulated\n",
    "    FROM flight_activity as fa\n",
    "\n",
    "\"\"\"\n",
    "\n",
    "df_atividade = pd.read_sql_query(consulta_atividade, conn)\n",
    "display(df_atividade)"
   ]
  },
  {
   "cell_type": "code",
   "execution_count": null,
   "metadata": {},
   "outputs": [],
   "source": [
    "#Selecione as mesmas colunas, porém, recupere somente as linhas cuja coluna distance é maior do que 2000\n",
    "\n",
    "consulta_atividade = \"\"\"\n",
    "\n",
    "    SELECT\n",
    "        fa.loyalty_number,\n",
    "        fa.year,\n",
    "        fa.month,\n",
    "        fa.flights_booked,\n",
    "        fa.total_flights,\n",
    "        fa.distance,\n",
    "        fa.points_accumulated\n",
    "    FROM flight_activity as fa\n",
    "    WHERE distance > 2000\n",
    "\n",
    "\"\"\"\n",
    "\n",
    "df_atividade = pd.read_sql_query(consulta_atividade, conn)\n",
    "display(df_atividade)"
   ]
  },
  {
   "cell_type": "code",
   "execution_count": null,
   "metadata": {},
   "outputs": [],
   "source": [
    "#Selecione as mesmas colunas, porém, recupere somente as linhas cuja coluna distance é maior do que 2000 e a coluna month é igual a 9\n",
    "\n",
    "consulta_atividade = \"\"\"\n",
    "\n",
    "    SELECT\n",
    "        fa.loyalty_number,\n",
    "        fa.year,\n",
    "        fa.month,\n",
    "        fa.flights_booked,\n",
    "        fa.total_flights,\n",
    "        fa.distance,\n",
    "        fa.points_accumulated\n",
    "    FROM flight_activity as fa\n",
    "    WHERE distance > 2000 AND month = 9\n",
    "\n",
    "\"\"\"\n",
    "\n",
    "df_atividade = pd.read_sql_query(consulta_atividade, conn)\n",
    "display(df_atividade)"
   ]
  },
  {
   "cell_type": "code",
   "execution_count": null,
   "metadata": {},
   "outputs": [],
   "source": [
    "#Selecione as colunas: loyalty_number, country, city, gender e loyalty_card, salary da tabela “flight_loyalty_history”. \n",
    "consulta_atividade = \"\"\"\n",
    "\n",
    "    SELECT\n",
    "        flh.loyalty_number,\n",
    "        flh.country,\n",
    "        flh.city, \n",
    "        flh.gender,\n",
    "        flh.loyalty_card\n",
    "    FROM flight_loyalty_history as flh\n",
    "\n",
    "\"\"\"\n",
    "\n",
    "df_atividade = pd.read_sql_query(consulta_atividade, conn)\n",
    "display(df_atividade)"
   ]
  },
  {
   "cell_type": "code",
   "execution_count": null,
   "metadata": {},
   "outputs": [],
   "source": [
    "# Selecione as mesmas colunas, porém, recupere somente as linhas cuja coluna gender é igual a Female\n",
    "consulta_atividade = \"\"\"\n",
    "\n",
    "    SELECT\n",
    "        flh.loyalty_number,\n",
    "        flh.country,\n",
    "        flh.city, \n",
    "        flh.gender,\n",
    "        flh.loyalty_card\n",
    "    FROM flight_loyalty_history as flh\n",
    "    WHERE flh.gender = 'Female'\n",
    "\"\"\"\n",
    "\n",
    "df_atividade = pd.read_sql_query(consulta_atividade, conn)\n",
    "display(df_atividade)"
   ]
  },
  {
   "cell_type": "markdown",
   "metadata": {},
   "source": [
    "# 3.0 INSPECIONANDO OS DADOS"
   ]
  },
  {
   "cell_type": "code",
   "execution_count": null,
   "metadata": {},
   "outputs": [],
   "source": []
  }
 ],
 "metadata": {
  "kernelspec": {
   "display_name": "Python 3",
   "language": "python",
   "name": "python3"
  },
  "language_info": {
   "codemirror_mode": {
    "name": "ipython",
    "version": 3
   },
   "file_extension": ".py",
   "mimetype": "text/x-python",
   "name": "python",
   "nbconvert_exporter": "python",
   "pygments_lexer": "ipython3",
   "version": "3.11.6"
  }
 },
 "nbformat": 4,
 "nbformat_minor": 2
}
